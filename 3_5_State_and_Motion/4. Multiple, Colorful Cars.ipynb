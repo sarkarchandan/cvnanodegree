{
 "cells": [
  {
   "cell_type": "markdown",
   "metadata": {},
   "source": [
    "# Creating colorful cars\n",
    "\n",
    "Now, the `car.py` file has been modified so that `__init__` takes in an optional color parameter!\n",
    "\n",
    "Your tasks for this notebook are:\n",
    "1. Create multiple cars of different colors\n",
    "2. Move them around and display the result\n",
    "3. (Optional) Add another variable to __init__ like maximum_speed or a boolean true or false depending on if the car has good speakers. It's up to you!\n",
    "\n",
    "Your options for color values include:\n",
    "* b: blue\n",
    "* g: green\n",
    "* r: red\n",
    "* c: cyan\n",
    "* m: magenta\n",
    "* y: yellow\n",
    "* k: black\n",
    "* w: white\n",
    "\n",
    "More color info can be found, [here](https://matplotlib.org/api/colors_api.html)."
   ]
  },
  {
   "cell_type": "code",
   "execution_count": 1,
   "metadata": {},
   "outputs": [],
   "source": [
    "from typing import Tuple\n",
    "import numpy as np\n",
    "from car import Car\n",
    "\n",
    "%matplotlib inline\n",
    "\n",
    "# Auto-reload function so that this notebook keeps up with \n",
    "# changes in the class file \n",
    "%load_ext autoreload\n",
    "%autoreload 2"
   ]
  },
  {
   "cell_type": "markdown",
   "metadata": {},
   "source": [
    "### Define some initial variables"
   ]
  },
  {
   "cell_type": "code",
   "execution_count": 2,
   "metadata": {},
   "outputs": [
    {
     "data": {
      "image/png": "[encoded data removed]",
      "text/plain": [
       "<Figure size 432x288 with 1 Axes>"
      ]
     },
     "metadata": {
      "needs_background": "light"
     },
     "output_type": "display_data"
    }
   ],
   "source": [
    "# Reinitialize carla\n",
    "height: int = 4\n",
    "width: int = 6\n",
    "world: np.ndarray = np.zeros((height, width))\n",
    "initial_position: Tuple[int, int]  = (0, 0) # [y, x] (top-left corner)\n",
    "velocity: Tuple[int, int] = (0, 1) # [vy, vx] (moving to the right)\n",
    "carla: Car = Car(position=initial_position, velocity=velocity, world=world)\n",
    "\n",
    "# Make carla traverse with turn_right\n",
    "for _ in range(3):\n",
    "    carla.move()\n",
    "carla.turn_right()\n",
    "for _ in range(3):\n",
    "    carla.move()\n",
    "carla.turn_right()\n",
    "for _ in range(3):\n",
    "    carla.move()\n",
    "carla.turn_right()\n",
    "for _ in range(3):\n",
    "    carla.move()\n",
    "carla.display_world()"
   ]
  },
  {
   "cell_type": "code",
   "execution_count": 3,
   "metadata": {
    "collapsed": true
   },
   "outputs": [],
   "source": [
    "## TODO: Create two cars of different colors and display their different worlds\n"
   ]
  },
  {
   "cell_type": "code",
   "execution_count": 4,
   "metadata": {
    "collapsed": true
   },
   "outputs": [
    {
     "data": {
      "image/png": "[encoded data removed]",
      "text/plain": [
       "<Figure size 432x288 with 1 Axes>"
      ]
     },
     "metadata": {
      "needs_background": "light"
     },
     "output_type": "display_data"
    }
   ],
   "source": [
    "# Reinitialize carla\n",
    "height: int = 4\n",
    "width: int = 6\n",
    "world: np.ndarray = np.zeros((height, width))\n",
    "initial_position: Tuple[int, int]  = (0, 0) # [y, x] (top-left corner)\n",
    "velocity: Tuple[int, int] = (0, 1) # [vy, vx] (moving to the right)\n",
    "carla: Car = Car(position=initial_position, velocity=velocity, world=world)\n",
    "\n",
    "# Make carla traverse with turn_right\n",
    "for _ in range(3):\n",
    "    carla.move()\n",
    "carla.turn_right()\n",
    "for _ in range(3):\n",
    "    carla.move()\n",
    "carla.turn_right()\n",
    "for _ in range(3):\n",
    "    carla.move()\n",
    "carla.turn_right()\n",
    "for _ in range(3):\n",
    "    carla.move()\n",
    "carla.display_world()"
   ]
  },
  {
   "cell_type": "code",
   "execution_count": 9,
   "metadata": {},
   "outputs": [
    {
     "data": {
      "image/png": "[encoded data removed]",
      "text/plain": [
       "<Figure size 432x288 with 1 Axes>"
      ]
     },
     "metadata": {
      "needs_background": "light"
     },
     "output_type": "display_data"
    },
    {
     "data": {
      "image/png": "[encoded data removed]",
      "text/plain": [
       "<Figure size 432x288 with 1 Axes>"
      ]
     },
     "metadata": {
      "needs_background": "light"
     },
     "output_type": "display_data"
    }
   ],
   "source": [
    "# Reinitialize carla\n",
    "height: int = 4\n",
    "width: int = 6\n",
    "world: np.ndarray = np.zeros((height, width))\n",
    "initial_position: Tuple[int, int]  = (0, 5) # [y, x] (top-left corner)\n",
    "velocity: Tuple[int, int] = (0, -11) # [vy, vx] (moving to the right)\n",
    "ford: Car = Car(position=initial_position, velocity=velocity, world=world, color='g')\n",
    "ford.display_world()\n",
    "\n",
    "ford.turn_right()\n",
    "for _ in range(3):\n",
    "    ford.move()\n",
    "ford.turn_right()\n",
    "for _ in range(3):\n",
    "    ford.move()\n",
    "ford.turn_right()\n",
    "for _ in range(3):\n",
    "    ford.move()\n",
    "ford.turn_right()\n",
    "for _ in range(3):\n",
    "    ford.move()\n",
    "ford.display_world()"
   ]
  },
  {
   "cell_type": "code",
   "execution_count": null,
   "metadata": {},
   "outputs": [],
   "source": []
  }
 ],
 "metadata": {
  "anaconda-cloud": {},
  "kernelspec": {
   "display_name": "Python 3",
   "language": "python",
   "name": "python3"
  },
  "language_info": {
   "codemirror_mode": {
    "name": "ipython",
    "version": 3
   },
   "file_extension": ".py",
   "mimetype": "text/x-python",
   "name": "python",
   "nbconvert_exporter": "python",
   "pygments_lexer": "ipython3",
   "version": "3.9.10"
  }
 },
 "nbformat": 4,
 "nbformat_minor": 1
}
