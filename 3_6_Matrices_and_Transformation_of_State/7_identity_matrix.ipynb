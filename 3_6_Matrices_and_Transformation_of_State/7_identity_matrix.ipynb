{
 "cells": [
  {
   "cell_type": "markdown",
   "metadata": {
    "collapsed": true
   },
   "source": [
    "# Identity Matrix\n",
    "\n",
    "Write a function called identity_matrix that outputs an identity matrix of size n.\n",
    "\n",
    "INPUT\n",
    "* n - size of the Identity matrix\n",
    "\n",
    "OUPUT\n",
    "* identity matrix as a list of lists\n",
    "\n",
    "\n",
    "HINTS\n",
    "* nested for loops will be helpful\n",
    "* the one values are always on the diagonal. To access diagonal values in a list of lists will occur where i = j\n",
    "* whenever i does not equal j, the value in the matrix should be 0"
   ]
  },
  {
   "cell_type": "code",
   "execution_count": 2,
   "metadata": {
    "collapsed": true
   },
   "outputs": [],
   "source": [
    "def identity_matrix(n):\n",
    "    \n",
    "    identity = []\n",
    "    \n",
    "    # TODO: Write a nested for loop to iterate over the rows and\n",
    "    # columns of the identity matrix. Remember that identity\n",
    "    # matrices are square so they have the same number of rows\n",
    "    # and columns\n",
    "    \n",
    "    # Make sure to assign 1 to the diagonal values and 0 everywhere\n",
    "    # else\n",
    "    for i in range(n):\n",
    "        identity.append([0 for _ in range(n)])\n",
    "    for i in range(n):\n",
    "        identity[i][i] = 1\n",
    "    \n",
    "    return identity"
   ]
  },
  {
   "cell_type": "code",
   "execution_count": 4,
   "metadata": {
    "collapsed": true
   },
   "outputs": [],
   "source": [
    "# TODO: Run this cell to see if your answers are as expected\n",
    "\n",
    "assert identity_matrix(1) == [[1]]\n",
    "\n",
    "assert identity_matrix(2) == [[1, 0], \n",
    "                             [0, 1]]\n",
    "\n",
    "assert identity_matrix(3) == [[1, 0, 0],\n",
    "                             [0, 1, 0],\n",
    "                             [0, 0, 1]]\n",
    "\n",
    "assert identity_matrix(4) == [[1, 0, 0, 0],\n",
    "                             [0, 1, 0, 0],\n",
    "                             [0, 0, 1, 0],\n",
    "                             [0, 0, 0, 1]]"
   ]
  },
  {
   "cell_type": "markdown",
   "metadata": {},
   "source": [
    "# Multiplication with the Identity Matrix\n",
    "\n",
    "Copy your matrix multiplication function in the code cell below. Try multiplying a matrix with an identity matrix to prove to yourself that the identity matrix is analogous to multiplyin a scalar by one."
   ]
  },
  {
   "cell_type": "code",
   "execution_count": 5,
   "metadata": {
    "collapsed": true
   },
   "outputs": [],
   "source": [
    "# TODO: Copy your matrix multiplication function and any other helper\n",
    "# funcitons here from the previous exercises\n",
    "\n",
    "def transpose(matrix):\n",
    "    matrix_transpose = []\n",
    "    for i in range(len(matrix[0])):\n",
    "        row = []\n",
    "        for j in range(len(matrix)):\n",
    "            row.append(matrix[j][i])\n",
    "        matrix_transpose.append(row)\n",
    "    \n",
    "    return matrix_transpose\n",
    "\n",
    "\n",
    "\n",
    "def dot_product(vector_one, vector_two):\n",
    "    if len(vector_one) != len(vector_two):\n",
    "        raise RuntimeError('Incompatible vector lengths for dot product')\n",
    "    dp = 0\n",
    "    for i in range(len(vector_one)):\n",
    "        dp += (vector_one[i] * vector_two[i])\n",
    "    return dp\n",
    "\n",
    "def matrix_multiplication(matrixA, matrixB):\n",
    "    \"\"\"This implementation takes advantage of the transpose utility. For the multiplication \n",
    "    the number of columns of the first matrix need to match the number of rows of the second \n",
    "    matrix. Let's say, that the condition is satisfied. Then if we transpose the second matrix \n",
    "    its row dimension goes to column dimension. If we work this out with pen and paper we'd see \n",
    "    that now both matrices have same length for each of their rows. Now if we do a nested for \n",
    "    loop like below and take the dot product we are achieving the same purpose as with the earlier \n",
    "    implementation.\n",
    "    \"\"\"\n",
    "    matrixA_cols = len(matrixA[0])\n",
    "    matrixB_rows = len(matrixB)\n",
    "    if matrixA_cols != matrixB_rows:\n",
    "        raise RuntimeError('Incompatible dimensions for matrix multiplication')\n",
    "    product = []\n",
    "    trn_matrixB = transpose(matrixB)\n",
    "    for i in range(len(matrixA)):\n",
    "        row = []\n",
    "        for j in range(len(trn_matrixB)):\n",
    "            row.append(dot_product(matrixA[i], trn_matrixB[j]))\n",
    "        product.append(row)\n",
    "    return product"
   ]
  },
  {
   "cell_type": "code",
   "execution_count": 6,
   "metadata": {
    "collapsed": true
   },
   "outputs": [],
   "source": [
    "# TODO: Run this cell to see if your results are as expected.\n",
    "\n",
    "m = [[5, 9, 2, 4],\n",
    "     [3, 8, 5, 6],\n",
    "     [1, 0, 0, 15]]\n",
    "\n",
    "assert matrix_multiplication(m, identity_matrix(4)) == m\n",
    "assert matrix_multiplication(identity_matrix(3), m) == m"
   ]
  },
  {
   "cell_type": "code",
   "execution_count": null,
   "metadata": {},
   "outputs": [],
   "source": []
  }
 ],
 "metadata": {
  "kernelspec": {
   "display_name": "Python 3",
   "language": "python",
   "name": "python3"
  },
  "language_info": {
   "codemirror_mode": {
    "name": "ipython",
    "version": 3
   },
   "file_extension": ".py",
   "mimetype": "text/x-python",
   "name": "python",
   "nbconvert_exporter": "python",
   "pygments_lexer": "ipython3",
   "version": "3.9.10"
  }
 },
 "nbformat": 4,
 "nbformat_minor": 2
}
