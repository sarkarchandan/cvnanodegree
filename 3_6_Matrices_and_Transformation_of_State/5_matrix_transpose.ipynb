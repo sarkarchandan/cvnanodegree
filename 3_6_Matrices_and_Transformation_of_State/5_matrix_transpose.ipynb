{
 "cells": [
  {
   "cell_type": "markdown",
   "metadata": {},
   "source": [
    "# Transpose of a Matrix\n",
    "\n",
    "In this set of exercises, you will work with the transpose of a matrix.\n",
    "\n",
    "Your first task is to write a funciton that takes the transpose of a matrix. Think about how to use nested for loops efficiently.\n",
    "\n",
    "The second task will be to write a new matrix multiplication function that takes advantage of your matrix transposition function."
   ]
  },
  {
   "cell_type": "code",
   "execution_count": 15,
   "metadata": {
    "collapsed": true
   },
   "outputs": [],
   "source": [
    "### TODO: Write a function called transpose() that \n",
    "###       takes in a matrix and outputs the transpose of the matrix\n",
    "\n",
    "def transpose(matrix):\n",
    "    matrix_transpose = []\n",
    "    for i in range(len(matrix[0])):\n",
    "        row = []\n",
    "        for j in range(len(matrix)):\n",
    "            row.append(matrix[j][i])\n",
    "        matrix_transpose.append(row)\n",
    "    \n",
    "    return matrix_transpose"
   ]
  },
  {
   "cell_type": "code",
   "execution_count": 16,
   "metadata": {
    "collapsed": true
   },
   "outputs": [],
   "source": [
    "### TODO: Run the code in the cell below. If there is no \n",
    "###       output, then your answers were as expected\n",
    "\n",
    "assert transpose([[5, 4, 1, 7], [2, 1, 3, 5]]) == [[5, 2], [4, 1], [1, 3], [7, 5]]\n",
    "assert transpose([[5]]) == [[5]]\n",
    "assert transpose([[5, 3, 2], [7, 1, 4], [1, 1, 2], [8, 9, 1]]) == [[5, 7, 1, 8], [3, 1, 1, 9], [2, 4, 2, 1]]\n"
   ]
  },
  {
   "cell_type": "markdown",
   "metadata": {},
   "source": [
    "### Matrix Multiplication\n",
    "\n",
    "Now that you have your transpose function working, write a matrix multiplication function that takes advantage of the transpose. \n",
    "\n",
    "As part of the matrix multiplication code, you might want to re-use your dot product function from the matrix multiplication exercises. But you won't need your get_row and get_column functions anymore because the tranpose essentially takes care of turning columns into row vectors.\n",
    "\n",
    "Remember that if matrix A is mxn and matrix B is nxp, then the resulting product will be mxp."
   ]
  },
  {
   "cell_type": "code",
   "execution_count": 17,
   "metadata": {
    "collapsed": true
   },
   "outputs": [],
   "source": [
    "### TODO: Write a function called matrix_multiplication() that\n",
    "###       takes in two matrices and outputs the product of the two\n",
    "###       matrices\n",
    "\n",
    "### TODO: Copy your dot_product() function here so that you can\n",
    "###       use it in your matrix_multiplication function\n",
    "\n",
    "def dot_product(vector_one, vector_two):\n",
    "    if len(vector_one) != len(vector_two):\n",
    "        raise RuntimeError('Incompatible vector lengths for dot product')\n",
    "    dp = 0\n",
    "    for i in range(len(vector_one)):\n",
    "        dp += (vector_one[i] * vector_two[i])\n",
    "    return dp\n",
    "\n",
    "def matrix_multiplication(matrixA, matrixB):\n",
    "    \"\"\"This implementation takes advantage of the transpose utility. For the multiplication \n",
    "    the number of columns of the first matrix need to match the number of rows of the second \n",
    "    matrix. Let's say, that the condition is satisfied. Then if we transpose the second matrix \n",
    "    its row dimension goes to column dimension. If we work this out with pen and paper we'd see \n",
    "    that now both matrices have same length for each of their rows. Now if we do a nested for \n",
    "    loop like below and take the dot product we are achieving the same purpose as with the earlier \n",
    "    implementation.\n",
    "    \"\"\"\n",
    "    matrixA_cols = len(matrixA[0])\n",
    "    matrixB_rows = len(matrixB)\n",
    "    if matrixA_cols != matrixB_rows:\n",
    "        raise RuntimeError('Incompatible dimensions for matrix multiplication')\n",
    "    product = []\n",
    "    trn_matrixB = transpose(matrixB)\n",
    "    for i in range(len(matrixA)):\n",
    "        row = []\n",
    "        for j in range(len(trn_matrixB)):\n",
    "            row.append(dot_product(matrixA[i], trn_matrixB[j]))\n",
    "        product.append(row)\n",
    "    return product"
   ]
  },
  {
   "cell_type": "code",
   "execution_count": 18,
   "metadata": {
    "collapsed": true
   },
   "outputs": [],
   "source": [
    "### TODO: Run the code in the cell below. If there is no \n",
    "###       output, then your answers were as expected\n",
    "\n",
    "assert matrix_multiplication([[5, 3, 1], \n",
    "                              [6, 2, 7]], \n",
    "                             [[4, 2], \n",
    "                              [8, 1], \n",
    "                              [7, 4]]) == [[51, 17], \n",
    "                                           [89, 42]]\n",
    "\n",
    "assert matrix_multiplication([[5]], [[4]]) == [[20]]\n",
    "\n",
    "assert matrix_multiplication([[2, 8, 1, 2, 9],\n",
    "                             [7, 9, 1, 10, 5],\n",
    "                             [8, 4, 11, 98, 2],\n",
    "                             [5, 5, 4, 4, 1]], \n",
    "                             [[4], \n",
    "                              [2], \n",
    "                              [17], \n",
    "                              [80], \n",
    "                              [2]]) == [[219], [873], [8071], [420]]\n",
    "\n",
    "\n",
    "assert matrix_multiplication([[2, 8, 1, 2, 9],\n",
    "                             [7, 9, 1, 10, 5],\n",
    "                             [8, 4, 11, 98, 2],\n",
    "                             [5, 5, 4, 4, 1]], \n",
    "                             [[4, 1, 2], \n",
    "                              [2, 3, 1], \n",
    "                              [17, 8, 1], \n",
    "                              [1, 3, 0], \n",
    "                              [2, 1, 4]]) == [[61, 49, 49], [83, 77, 44], [329, 404, 39], [104, 65, 23]]"
   ]
  },
  {
   "cell_type": "code",
   "execution_count": null,
   "metadata": {},
   "outputs": [],
   "source": []
  }
 ],
 "metadata": {
  "kernelspec": {
   "display_name": "Python 3",
   "language": "python",
   "name": "python3"
  },
  "language_info": {
   "codemirror_mode": {
    "name": "ipython",
    "version": 3
   },
   "file_extension": ".py",
   "mimetype": "text/x-python",
   "name": "python",
   "nbconvert_exporter": "python",
   "pygments_lexer": "ipython3",
   "version": "3.9.10"
  }
 },
 "nbformat": 4,
 "nbformat_minor": 2
}
