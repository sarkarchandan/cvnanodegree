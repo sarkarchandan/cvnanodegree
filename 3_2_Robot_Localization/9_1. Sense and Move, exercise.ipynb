{
 "cells": [
  {
   "cell_type": "markdown",
   "metadata": {},
   "source": [
    "# Sense and Move\n",
    "\n",
    "In this notebook, let's put all of what we've learned together and see what happens to an initial probability distribution as a robot goes trough cycles of sensing then moving then sensing then moving, and so on! Recall that each time a robot senses (in this case a red or green color)it gains information about its environment, and everytime it moves, it loses some information due to motion uncertainty.\n",
    "\n",
    "\n",
    "<img src='images/sense_move.png' width=50% height=50% />\n"
   ]
  },
  {
   "cell_type": "markdown",
   "metadata": {},
   "source": [
    "First let's include our usual resource imports and display function."
   ]
  },
  {
   "cell_type": "code",
   "execution_count": 5,
   "metadata": {
    "collapsed": true
   },
   "outputs": [],
   "source": [
    "# importing resources\n",
    "from typing import List\n",
    "import matplotlib.pyplot as plt\n",
    "import numpy as np"
   ]
  },
  {
   "cell_type": "markdown",
   "metadata": {},
   "source": [
    "A helper function for visualizing a distribution."
   ]
  },
  {
   "cell_type": "code",
   "execution_count": 6,
   "metadata": {
    "collapsed": true
   },
   "outputs": [],
   "source": [
    "def display_map(grid: List[float], bar_width: int = 1) -> None:\n",
    "    \"\"\"Creates a bar chart to show the probabilities for a robot to \n",
    "    be in each of the 1D grid cell.\n",
    "    \"\"\"\n",
    "    if(len(grid) > 0):\n",
    "        x_labels: range = range(len(grid))\n",
    "        plt.bar(x_labels, height=grid, width=bar_width, color='b')\n",
    "        plt.xlabel('Grid Cell')\n",
    "        plt.ylabel('Probability')\n",
    "        plt.ylim(0, 1) # range of 0-1 for probability values \n",
    "        plt.title('Probability of the robot being at each cell in the grid')\n",
    "        plt.xticks(np.arange(min(x_labels), max(x_labels)+1, 1))\n",
    "        plt.show()\n",
    "    else:\n",
    "        print('Grid is empty')"
   ]
  },
  {
   "cell_type": "markdown",
   "metadata": {
    "collapsed": true
   },
   "source": [
    "### QUIZ: Given the list motions=[1,1], compute the posterior distribution if the robot first senses red, then moves right one, then senses green, then moves right again, starting with a uniform prior distribution, `p`.\n",
    "\n",
    "`motions=[1,1]` mean that the robot moves right one cell and then right again. You are given the initial variables and the complete `sense` and `move` function, below."
   ]
  },
  {
   "cell_type": "code",
   "execution_count": 7,
   "metadata": {
    "collapsed": true
   },
   "outputs": [],
   "source": [
    "# given initial variables\n",
    "p: List[float] = [0.2, 0.2, 0.2, 0.2, 0.2]\n",
    "# the color of each grid cell in the 1D world\n",
    "world: List[float] = ['green', 'red', 'red', 'green', 'green']\n",
    "# Z, the sensor reading ('red' or 'green')\n",
    "measurements: List[float] = ['red', 'green']\n",
    "pHit: float = 0.6\n",
    "pMiss: float = 0.2\n",
    "\n",
    "motions: List[int] = [1,1]\n",
    "pExact: float = 0.8\n",
    "pOvershoot: float = 0.1\n",
    "pUndershoot: float = 0.1\n",
    "\n",
    "\n",
    "def sense(p: List[float], Z: str) -> List[float]:\n",
    "    \"\"\"Takes in a current probability distribution, p, and a sensor reading, Z.\n",
    "    Returns an nonnormalized distribution after the sensor measurement has been made, q.\n",
    "    This should be accurate whether Z is 'red' or 'green'.\n",
    "    \n",
    "    Args:\n",
    "        p: Prior probability distribution to sensor measurements\n",
    "        Z: Cell color\n",
    "    \n",
    "    Returns:\n",
    "        Normalized posterior probability distribution\n",
    "    \"\"\"\n",
    "    q: List[float] = []\n",
    "    # Iterate through all grid cells\n",
    "    for prob, cell_color in zip(p, world):\n",
    "        # check if the sensor reading is equal to the color of the grid cell\n",
    "        # if so, hit = 1\n",
    "        # if not, hit = 0\n",
    "        hit: int = (Z == cell_color)\n",
    "        # if hit - 1, we multiply the probability with pHit, because (1 - hit) = 0\n",
    "        # If hit = 0, we multiply the probability with pMis, because (1 - hit) = 1\n",
    "        q.append(prob * (hit * pHit + (1-hit) * pMiss))\n",
    "\n",
    "    # Normalize q\n",
    "    q = (np.array(q) / np.sum(q)).tolist()\n",
    "    return q\n",
    "\n",
    "\n",
    "def move(p: List[float], U: int) -> List[float]:\n",
    "    \"\"\"We are considering the robot motion in 1D world represented \n",
    "    by a cyclic array / list, means when the robot moves 1 step to \n",
    "    the right from the last cell of the array it ends up coming to \n",
    "    the first cell. In order to model this probability distribution \n",
    "    also shifts one step to he right. This function implements that.\n",
    "    \n",
    "    Args:\n",
    "        p: Starting probability distribution\n",
    "        U: Number of steps for robot motion\n",
    "    \n",
    "    Returns:\n",
    "        Shifted probability distribution resulting from the motion\n",
    "    \"\"\"\n",
    "    q: List[float] = []\n",
    "    if len(p) == 0:\n",
    "        return q\n",
    "    for idx in range(len(p)):\n",
    "        index: int = (idx - U) % len(p)\n",
    "        prevIndex: int = (index - 1) % len(p)\n",
    "        nextIndex: int = (index + 1) % len(p)\n",
    "        val: float = pExact * p[index]\n",
    "        val = val + pUndershoot * p[prevIndex]\n",
    "        val = val + pOvershoot * p[nextIndex]\n",
    "        q.append(val)\n",
    "    return q"
   ]
  },
  {
   "cell_type": "code",
   "execution_count": 8,
   "metadata": {
    "collapsed": true
   },
   "outputs": [
    {
     "name": "stdout",
     "output_type": "stream",
     "text": [
      "[0.21157894736842103, 0.1515789473684211, 0.08105263157894739, 0.16842105263157897, 0.3873684210526316]\n"
     ]
    },
    {
     "data": {
      "image/png": "[encoded data removed]",
      "text/plain": [
       "<Figure size 432x288 with 1 Axes>"
      ]
     },
     "metadata": {
      "needs_background": "light"
     },
     "output_type": "display_data"
    }
   ],
   "source": [
    "## TODO: Compute the posterior distribution if the robot first senses red, then moves \n",
    "## right one, then senses green, then moves right again, starting with a uniform prior distribution.\n",
    "\n",
    "## print/display that distribution\n",
    "for mea, mot in zip(measurements, motions):\n",
    "    p = sense(p=p, Z=mea)\n",
    "    p = move(p=p, U=mot)\n",
    "\n",
    "print(p)\n",
    "display_map(p)"
   ]
  },
  {
   "cell_type": "markdown",
   "metadata": {},
   "source": [
    "World -> ['green', 'red', 'red', 'green', 'green']\n",
    "Robot sensed -> ['red', 'green']\n",
    "Robot moved -> [1, 1]\n",
    "\n",
    "This was the setting for this experiment. By looking at the probabilities, sensor measurement, and movement patterns let's first make a guess about, what was he initial position of the robot and then verify that thought process with a subsequent experiment.\n",
    "\n",
    "We guess, that the initial position of the robot was the third red cell. At that point it sensed red and took a step right. Then it sensed green and took a step right. This means it is at the right most green cell at this point. Looking at the probability patterns, `[0.21157894736842103, 0.1515789473684211, 0.08105263157894739, 0.16842105263157897, 0.3873684210526316]` indeed the right most position got the highest probability.\n",
    "\n",
    "Now let's give ourselves another set of observations to verify this. Following is our state and we just changed the sensor measurements for the robot.\n",
    "\n",
    "World -> ['green', 'red', 'red', 'green', 'green']\n",
    "Robot sensed -> ['red', 'red']\n",
    "Robot moved -> [1, 1]\n",
    "\n",
    "From the assumed observations our guess is, that the initial starting position of the robot in this case is the second red cell. The final position of the robot would be the fourth green cell and that position would have the highest probability."
   ]
  },
  {
   "cell_type": "code",
   "execution_count": 11,
   "metadata": {},
   "outputs": [
    {
     "name": "stdout",
     "output_type": "stream",
     "text": [
      "[0.07882352941176471, 0.07529411764705884, 0.22470588235294123, 0.4329411764705882, 0.18823529411764706]\n"
     ]
    },
    {
     "data": {
      "image/png": "[encoded data removed]",
      "text/plain": [
       "<Figure size 432x288 with 1 Axes>"
      ]
     },
     "metadata": {
      "needs_background": "light"
     },
     "output_type": "display_data"
    }
   ],
   "source": [
    "p: List[float] = [0.2, 0.2, 0.2, 0.2, 0.2]\n",
    "world: List[float] = ['green', 'red', 'red', 'green', 'green']\n",
    "measurements: List[float] = ['red', 'red']\n",
    "motions: List[int] = [1,1]\n",
    "\n",
    "for mea, mot in zip(measurements, motions):\n",
    "    p = sense(p=p, Z=mea)\n",
    "    p = move(p=p, U=mot)\n",
    "\n",
    "print(p)\n",
    "display_map(p)"
   ]
  },
  {
   "cell_type": "markdown",
   "metadata": {},
   "source": [
    "And with above experiment our guess is verified."
   ]
  },
  {
   "cell_type": "markdown",
   "metadata": {},
   "source": [
    "### Note about Entropy\n",
    "\n",
    "In general, **entropy measures the amount of uncertainty**. Since the update (`move`) step increases uncertainty, then entropy should increase. The measurement (`sense`) step decreases uncertainty, so entropy should decrease.\n",
    "\n",
    "Let's look at our current example where the robot could be at five different positions. The maximum uncertainty occurs when all positions have equal probabilities  $[0.2, 0.2, 0.2, 0.2, 0.2]$ \n",
    "\n",
    "Following the formula $$\\text{Entropy} = \\Sigma  (-p \\times log(p))$$we get $$-5 \\times (.2)\\times log(0.2) = 0.699$$\n",
    "\n",
    "Taking a measurement should decrease uncertainty and thus decrease entropy. Let's say after taking a measurement, the probabilities become <span class=\"mathquill\">[0.05, 0.05, 0.05, 0.8, 0.05]</span>. Now the entropy decreased to 0.338. Hence a measurement step should decrease entropy whereas an update step should increase entropy."
   ]
  }
 ],
 "metadata": {
  "kernelspec": {
   "display_name": "Python [default]",
   "language": "python",
   "name": "python3"
  },
  "language_info": {
   "codemirror_mode": {
    "name": "ipython",
    "version": 3
   },
   "file_extension": ".py",
   "mimetype": "text/x-python",
   "name": "python",
   "nbconvert_exporter": "python",
   "pygments_lexer": "ipython3",
   "version": "3.9.10"
  }
 },
 "nbformat": 4,
 "nbformat_minor": 2
}
