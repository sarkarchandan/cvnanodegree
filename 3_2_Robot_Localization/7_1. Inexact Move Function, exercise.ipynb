{
 "cells": [
  {
   "cell_type": "markdown",
   "metadata": {},
   "source": [
    "# Inexact Move Function\n",
    "\n",
    "Let's see how we can incorporate **uncertain** motion into our motion update. We include the `sense` function that you've seen, which updates an initial distribution based on whether a robot senses a grid color: red or green. \n",
    "\n",
    "Next, you're tasked with modifying the `move` function so that it incorporates uncertainty in motion.\n",
    "\n",
    "<img src='images/uncertain_motion.png' width=50% height=50% />\n"
   ]
  },
  {
   "cell_type": "markdown",
   "metadata": {},
   "source": [
    "First let's include our usual resource imports and display function."
   ]
  },
  {
   "cell_type": "code",
   "execution_count": 33,
   "metadata": {
    "collapsed": true
   },
   "outputs": [],
   "source": [
    "# importing resources\n",
    "from typing import List\n",
    "import matplotlib.pyplot as plt\n",
    "import numpy as np"
   ]
  },
  {
   "cell_type": "markdown",
   "metadata": {},
   "source": [
    "A helper function for visualizing a distribution."
   ]
  },
  {
   "cell_type": "code",
   "execution_count": 34,
   "metadata": {
    "collapsed": true
   },
   "outputs": [],
   "source": [
    "def display_map(grid: List[float], bar_width: int = 1) -> None:\n",
    "    \"\"\"Creates a bar chart to show the probabilities for a robot to \n",
    "    be in each of the 1D grid cell.\n",
    "    \"\"\"\n",
    "    if(len(grid) > 0):\n",
    "        x_labels: range = range(len(grid))\n",
    "        plt.bar(x_labels, height=grid, width=bar_width, color='b')\n",
    "        plt.xlabel('Grid Cell')\n",
    "        plt.ylabel('Probability')\n",
    "        plt.ylim(0, 1) # range of 0-1 for probability values \n",
    "        plt.title('Probability of the robot being at each cell in the grid')\n",
    "        plt.xticks(np.arange(min(x_labels), max(x_labels)+1, 1))\n",
    "        plt.show()\n",
    "    else:\n",
    "        print('Grid is empty')"
   ]
  },
  {
   "cell_type": "markdown",
   "metadata": {
    "collapsed": true
   },
   "source": [
    "You are given the initial variables and the complete `sense` function, below."
   ]
  },
  {
   "cell_type": "code",
   "execution_count": 35,
   "metadata": {},
   "outputs": [],
   "source": [
    "# given initial variables\n",
    "p: List[float] = [0, 1, 0, 0, 0]\n",
    "# the color of each grid cell in the 1D world\n",
    "world: List[str] = ['green', 'red', 'red', 'green', 'green']\n",
    "# Z, the sensor reading ('red' or 'green')\n",
    "Z: str = 'red'\n",
    "pHit: float = 0.6\n",
    "pMiss: float  = 0.2"
   ]
  },
  {
   "cell_type": "code",
   "execution_count": 36,
   "metadata": {
    "collapsed": true
   },
   "outputs": [],
   "source": [
    "# This time we are having another version of the sense function than the prior notebook.\n",
    "# This version of the solution is a bit more numeric, which should come handy when we move \n",
    "# to 2D and 3D worlds.\n",
    "def sense(p: List[float], Z: str) -> List[float]:\n",
    "    \"\"\"Takes in a current probability distribution, p, and a sensor reading, Z.\n",
    "    Returns an nonnormalized distribution after the sensor measurement has been made, q.\n",
    "    This should be accurate whether Z is 'red' or 'green'.\n",
    "    \n",
    "    Args:\n",
    "        p: Prior probability distribution to sensor measurements\n",
    "        Z: Cell color\n",
    "    \n",
    "    Returns:\n",
    "        Normalized posterior probability distribution\n",
    "    \"\"\"\n",
    "    q: List[float] = []\n",
    "    # Iterate through all grid cells\n",
    "    for prob, cell_color in zip(p, world):\n",
    "        # check if the sensor reading is equal to the color of the grid cell\n",
    "        # if so, hit = 1\n",
    "        # if not, hit = 0\n",
    "        hit: int = (Z == cell_color)\n",
    "        # if hit - 1, we multiply the probability with pHit, because (1 - hit) = 0\n",
    "        # If hit = 0, we multiply the probability with pMis, because (1 - hit) = 1\n",
    "        q.append(prob * (hit * pHit + (1-hit) * pMiss))\n",
    "\n",
    "    # Normalize q\n",
    "    q = (np.array(q) / np.sum(q)).tolist()\n",
    "    return q\n",
    "\n",
    "# Commented out code for measurements\n",
    "# for k in range(len(measurements)):\n",
    "#     p = sense(p, measurements)\n"
   ]
  },
  {
   "cell_type": "markdown",
   "metadata": {},
   "source": [
    "### QUIZ: Modify the move function to accommodate the added probabilities of overshooting or undershooting the intended destination.\n",
    "\n",
    "This function should shift a distribution with the motion, U, with some probability of under/overshooting. For the given, initial `p`, you should see the result for U = 1 and incorporated uncertainties: `[0.0, 0.1, 0.8, 0.1, 0.0]`."
   ]
  },
  {
   "cell_type": "code",
   "execution_count": 37,
   "metadata": {},
   "outputs": [],
   "source": [
    "## TODO: Modify the move function to accommodate the added robabilities of overshooting or undershooting \n",
    "pExact: float = 0.8\n",
    "pOvershoot: float = 0.1\n",
    "pUndershoot: float = 0.1"
   ]
  },
  {
   "cell_type": "code",
   "execution_count": 38,
   "metadata": {
    "collapsed": true
   },
   "outputs": [],
   "source": [
    "## TODO: Complete this move function so that it shifts a probability distribution, p\n",
    "## by a given motion, U\n",
    "def move(p: List[float], U: int) -> List[float]:\n",
    "    \"\"\"We are considering the robot motion in 1D world represented \n",
    "    by a cyclic array / list, means when the robot moves 1 step to \n",
    "    the right from the last cell of the array it ends up coming to \n",
    "    the first cell. In order to model this probability distribution \n",
    "    also shifts one step to he right. This function implements that.\n",
    "    \n",
    "    Args:\n",
    "        p: Starting probability distribution\n",
    "        U: Number of steps for robot motion\n",
    "    \n",
    "    Returns:\n",
    "        Shifted probability distribution resulting from the motion\n",
    "    \"\"\"\n",
    "    q: List[float] = []\n",
    "    if len(p) == 0:\n",
    "        return q\n",
    "    for idx in range(len(p)):\n",
    "        index: int = (idx - U) % len(p)\n",
    "        prevIndex: int = (index - 1) % len(p)\n",
    "        nextIndex: int = (index + 1) % len(p)\n",
    "        val: float = pExact * p[index]\n",
    "        val = val + pUndershoot * p[prevIndex]\n",
    "        val = val + pOvershoot * p[nextIndex]\n",
    "        q.append(val)\n",
    "    return q"
   ]
  },
  {
   "cell_type": "code",
   "execution_count": 39,
   "metadata": {},
   "outputs": [
    {
     "name": "stdout",
     "output_type": "stream",
     "text": [
      "[0.0, 0.1, 0.8, 0.1, 0.0]\n"
     ]
    },
    {
     "data": {
      "image/png": "[encoded data removed]",
      "text/plain": [
       "<Figure size 432x288 with 1 Axes>"
      ]
     },
     "metadata": {
      "needs_background": "light"
     },
     "output_type": "display_data"
    }
   ],
   "source": [
    "## TODO: try this for U = 2 and see the result\n",
    "p = move(p,1)\n",
    "print(p)\n",
    "display_map(p)"
   ]
  },
  {
   "cell_type": "code",
   "execution_count": 41,
   "metadata": {},
   "outputs": [
    {
     "name": "stdout",
     "output_type": "stream",
     "text": [
      "[0.0, 0.0, 0.1, 0.8, 0.1]\n"
     ]
    },
    {
     "data": {
      "image/png": "[encoded data removed]",
      "text/plain": [
       "<Figure size 432x288 with 1 Axes>"
      ]
     },
     "metadata": {
      "needs_background": "light"
     },
     "output_type": "display_data"
    }
   ],
   "source": [
    "# Take two steps at a time\n",
    "p: List[float] = [0, 1, 0, 0, 0]\n",
    "p = move(p,2)\n",
    "print(p)\n",
    "display_map(p)"
   ]
  },
  {
   "cell_type": "code",
   "execution_count": 42,
   "metadata": {},
   "outputs": [
    {
     "name": "stdout",
     "output_type": "stream",
     "text": [
      "[0.010000000000000002, 0.010000000000000002, 0.16000000000000003, 0.6600000000000001, 0.16000000000000003]\n"
     ]
    },
    {
     "data": {
      "image/png": "[encoded data removed]",
      "text/plain": [
       "<Figure size 432x288 with 1 Axes>"
      ]
     },
     "metadata": {
      "needs_background": "light"
     },
     "output_type": "display_data"
    }
   ],
   "source": [
    "# Take two consecutive single steps\n",
    "p: List[float] = [0, 1, 0, 0, 0]\n",
    "p = move(p,1)\n",
    "p = move(p,1)\n",
    "print(p)\n",
    "display_map(p)"
   ]
  },
  {
   "cell_type": "code",
   "execution_count": null,
   "metadata": {},
   "outputs": [],
   "source": []
  }
 ],
 "metadata": {
  "kernelspec": {
   "display_name": "Python [default]",
   "language": "python",
   "name": "python3"
  },
  "language_info": {
   "codemirror_mode": {
    "name": "ipython",
    "version": 3
   },
   "file_extension": ".py",
   "mimetype": "text/x-python",
   "name": "python",
   "nbconvert_exporter": "python",
   "pygments_lexer": "ipython3",
   "version": "3.9.10"
  }
 },
 "nbformat": 4,
 "nbformat_minor": 2
}
