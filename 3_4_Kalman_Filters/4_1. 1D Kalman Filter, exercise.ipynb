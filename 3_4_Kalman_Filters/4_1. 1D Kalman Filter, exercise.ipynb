{
 "cells": [
  {
   "cell_type": "markdown",
   "metadata": {},
   "source": [
    "# 1D Kalman Filter\n",
    "\n",
    "Now, you're ready to implement a 1D Kalman Filter by putting all these steps together. Let's take the case of a robot that moves through the world. As a robot moves through the world it locates itself by performing a cycle of:\n",
    "1. sensing and performing a measurement update and\n",
    "2. moving and performing a motion update\n",
    "\n",
    "You've programmed each of these steps individually, so now let's combine them in a cycle!\n",
    "\n",
    "After implementing this filter, you should see that you can go from a very uncertain location Gaussian to a more and more certain Gaussian, as pictured below. The code in this notebooks is really just a simplified version of the Kalman filter that runs in the Google self-driving car that is used to track surrounding vehicles and other objects.\n",
    "\n",
    "<img src='images/gaussian_updates.png' height=70% width=70% />\n",
    "\n",
    "---"
   ]
  },
  {
   "cell_type": "markdown",
   "metadata": {},
   "source": [
    "Below is our usual Gaussian equation and imports."
   ]
  },
  {
   "cell_type": "code",
   "execution_count": 1,
   "metadata": {},
   "outputs": [],
   "source": [
    "# import math functions\n",
    "from typing import List, Tuple\n",
    "from math import *\n",
    "import matplotlib.pyplot as plt\n",
    "import numpy as np"
   ]
  },
  {
   "cell_type": "code",
   "execution_count": 2,
   "metadata": {
    "collapsed": true
   },
   "outputs": [],
   "source": [
    "# gaussian function\n",
    "def f(mu: float, sigma2: float, x: float) -> float:\n",
    "   \"\"\"Computes the Gaussian probability density function from \n",
    "   the provided parameters.\n",
    "\n",
    "   Args:\n",
    "      mu: Mean value as measure of central tendency\n",
    "      sigma2: Variance as measure of spread\n",
    "      x: Input value\n",
    "      \n",
    "   Returns:\n",
    "      Gaussian probability density value\n",
    "   \"\"\"\n",
    "   coefficient: float = 1.0 / sqrt(2.0 * pi *sigma2)\n",
    "   exponential = exp(-0.5 * (x-mu) ** 2 / sigma2)\n",
    "   return coefficient * exponential\n"
   ]
  },
  {
   "cell_type": "markdown",
   "metadata": {},
   "source": [
    "You've also been given the complete `update` code that performs a parameter update when an initial belief and new measurement information are merged. And the complete `predict` code that performs an update to a Gasuuain after a motion is incorporated."
   ]
  },
  {
   "cell_type": "code",
   "execution_count": 3,
   "metadata": {
    "collapsed": true
   },
   "outputs": [],
   "source": [
    "# the update function\n",
    "def update(mean1: float, var1: float, mean2: float, var2: float) -> Tuple[float, float]:\n",
    "    \"\"\"Takes in two means and two squared variance terms for the prior and measurement \n",
    "    distributions and returns updated gaussian parameters for posterior probability \n",
    "    density function.\n",
    "\n",
    "    Args:\n",
    "        mean1: Mean for the prior probability density function \n",
    "        var1: Variance for the prior probability density function\n",
    "        mean2: Mean for the measurement function\n",
    "        var2: Variance for the measurement function\n",
    "\n",
    "    Returns:\n",
    "        Tuple of mean and variance for posterior probability density function\n",
    "    \"\"\"\n",
    "    new_mean: float = ((var2 * mean1) + (var1 * mean2)) / (var1 + var2)\n",
    "    new_var: float = 1. / ((1. / var2) + (1. / var1))\n",
    "    return new_mean, new_var\n",
    "\n",
    "\n",
    "# the motion update/predict function\n",
    "def predict(mean1: float, var1: float, mean2: float, var2: float) -> Tuple[float, float]:\n",
    "    \"\"\"Computes the motion update. It means we take the mean and variance of the \n",
    "    probability distribution prior to the movement and add the motion vector to \n",
    "    the same. In Kalman filtering [mean2, var2] together denotes a motion vector.\n",
    "\n",
    "    Args:\n",
    "        mean1: Mean of the probability distribution before the motion\n",
    "        var1 Variance of the probability distribution before the motion\n",
    "        mean2: Mean component of the motion vector\n",
    "        var2: Variance component of the motion vector\n",
    "    \n",
    "    Returns:\n",
    "        Tuple of mean and variance for the probability distribution \n",
    "        after the motion\n",
    "    \"\"\"\n",
    "    new_mean: float = mean1 + mean2\n",
    "    new_var: float = var1 + var2\n",
    "    return new_mean, new_var"
   ]
  },
  {
   "cell_type": "markdown",
   "metadata": {},
   "source": [
    "### QUIZ: For the given measurements and motions, write complete 1D Kalman filter code that loops through all of these in order.\n",
    "\n",
    "Your complete code should look at sensor measurements then motions in that sequence until all updates are done!\n",
    "\n",
    "### Initial Uncertainty\n",
    "\n",
    "You'll see that you are given initial parameters below, and this includes an initial location estimation, `mu` and squared variance, `sig`. Note that the initial estimate is set to the location 0, and the variance is extremely large; this is a state of high confusion much like the *uniform* distribution we used in the histogram filter. There are also values given for the squared variance associated with the sensor measurements and the motion, since neither of those readings are perfect, either.\n",
    "\n",
    "You should see that even though the initial estimate for location (the initial `mu`) is far from the first measurement, it should catch up fairly quickly as you cycle through measurements and motions."
   ]
  },
  {
   "cell_type": "code",
   "execution_count": 7,
   "metadata": {
    "collapsed": true
   },
   "outputs": [
    {
     "name": "stdout",
     "output_type": "stream",
     "text": [
      "After Measurement: Mean: 4.998000799680128 Variance/Uncertainty: 3.9984006397441023\n",
      "After Motion: Mean: 5.998000799680128 Variance/Uncertainty: 5.998400639744102\n",
      "After Measurement: Mean: 5.999200191953932 Variance/Uncertainty: 2.399744061425258\n",
      "After Motion: Mean: 6.999200191953932 Variance/Uncertainty: 4.399744061425258\n",
      "After Measurement: Mean: 6.999619127420922 Variance/Uncertainty: 2.0951800575117594\n",
      "After Motion: Mean: 8.999619127420921 Variance/Uncertainty: 4.09518005751176\n",
      "After Measurement: Mean: 8.999811802788143 Variance/Uncertainty: 2.0235152416216957\n",
      "After Motion: Mean: 9.999811802788143 Variance/Uncertainty: 4.023515241621696\n",
      "After Measurement: Mean: 9.999906177177365 Variance/Uncertainty: 2.0058615808441944\n",
      "After Motion: Mean: 10.999906177177365 Variance/Uncertainty: 4.005861580844194\n",
      "\n",
      "Final Estimate: Mean: 10.999906177177365 Variance/Uncertainty: 4.005861580844194\n"
     ]
    }
   ],
   "source": [
    "# measurements for mu and motions, U\n",
    "measurements: List[float] = [5., 6., 7., 9., 10.]\n",
    "motions: List[float] = [1., 1., 2., 1., 1.]\n",
    "\n",
    "# initial parameters\n",
    "measurement_sig: float = 4. # Variance / Uncertainty associated with the measurement update\n",
    "motion_sig: float = 2. # Variance / Uncertainty associated with the motion update\n",
    "mu: float = 0. # Initial location estimation.\n",
    "sig: float = 10000. # Initial location variance. (sig is the variance, not standard deviation) A large variance denotes a state of high confusion.\n",
    "\n",
    "## TODO: Loop through all measurements/motions\n",
    "## Print out and display the resulting Gaussian \n",
    "for meas, mot in zip(measurements, motions):\n",
    "    # Measurement update\n",
    "    new_meas_mu, new_meas_sig = update(mean1=mu, var1=sig, mean2=meas, var2=measurement_sig)\n",
    "    print(f'After Measurement: Mean: {new_meas_mu} Variance/Uncertainty: {new_meas_sig}')\n",
    "    # Motion update\n",
    "    mu, sig = predict(mean1=new_meas_mu, var1=new_meas_sig, mean2=mot, var2=motion_sig)\n",
    "    print(f'After Motion: Mean: {mu} Variance/Uncertainty: {sig}')\n",
    "\n",
    "print()\n",
    "print(f'Final Estimate: Mean: {mu} Variance/Uncertainty: {sig}')"
   ]
  },
  {
   "cell_type": "markdown",
   "metadata": {},
   "source": [
    "### Plot a Gaussian\n",
    "\n",
    "Plot a Gaussian by looping through a range of x values and creating a resulting list of Gaussian values, `g`, as shown below. You're encouraged to see what happens if you change the values of `mu` and `sigma2`."
   ]
  },
  {
   "cell_type": "code",
   "execution_count": 17,
   "metadata": {},
   "outputs": [
    {
     "data": {
      "image/png": "[encoded data removed]",
      "text/plain": [
       "<Figure size 1080x360 with 2 Axes>"
      ]
     },
     "metadata": {
      "needs_background": "light"
     },
     "output_type": "display_data"
    }
   ],
   "source": [
    "# display the *initial* gaussian over a range of x values\n",
    "# define the parameters\n",
    "initial_estimate: Tuple[float, float] = 0., 10000.\n",
    "final_estimate: Tuple[float, float] = mu, sig\n",
    "\n",
    "_, (ax1, ax2) = plt.subplots(nrows=1, ncols=2, figsize=(15, 5))\n",
    "\n",
    "# define a range of x values\n",
    "x_axis: np.ndarray = np.arange(-20, 20, 0.1)\n",
    "\n",
    "# create a corresponding list of gaussian values\n",
    "initial_state: List[float] = list(map(lambda x: f(mu=initial_estimate[0], sigma2=initial_estimate[1], x=x), x_axis))\n",
    "final_state: List[float] = list(map(lambda x: f(mu=final_estimate[0], sigma2=final_estimate[1], x=x), x_axis))\n",
    "\n",
    "ax1.plot(x_axis, initial_state)\n",
    "ax1.set_title('Initial state of large uncertainty')\n",
    "\n",
    "ax2.plot(x_axis, final_state)\n",
    "ax2.set_title('Final state of smaller uncertainty');"
   ]
  },
  {
   "cell_type": "code",
   "execution_count": null,
   "metadata": {},
   "outputs": [],
   "source": []
  }
 ],
 "metadata": {
  "interpreter": {
   "hash": "58073a0d6944434cb9307915c12d059ed605b69daa1ef3157f954fb6d713627b"
  },
  "kernelspec": {
   "display_name": "Python [conda env:cvnd_1]",
   "language": "python",
   "name": "python3"
  },
  "language_info": {
   "codemirror_mode": {
    "name": "ipython",
    "version": 3
   },
   "file_extension": ".py",
   "mimetype": "text/x-python",
   "name": "python",
   "nbconvert_exporter": "python",
   "pygments_lexer": "ipython3",
   "version": "3.9.10"
  }
 },
 "nbformat": 4,
 "nbformat_minor": 2
}
